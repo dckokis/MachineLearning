{
 "cells": [
  {
   "cell_type": "code",
   "execution_count": 1,
   "metadata": {
    "collapsed": true
   },
   "outputs": [],
   "source": [
    "import pandas as pd\n",
    "import numpy as np\n",
    "from sklearn import metrics\n",
    "from sklearn.impute import SimpleImputer\n",
    "from sklearn.preprocessing import LabelEncoder\n",
    "from sklearn.preprocessing import StandardScaler\n",
    "from sklearn.model_selection import train_test_split"
   ]
  },
  {
   "cell_type": "code",
   "execution_count": 2,
   "outputs": [],
   "source": [
    "train_data = pd.read_csv('/Users/konstantin/MachineLearning/task4/data/train.csv')\n",
    "test_data = pd.read_csv('/Users/konstantin/MachineLearning/task4/data/test.csv')\n",
    "#delete ids\n",
    "train_data = train_data.drop(columns=[\"Id\"])\n",
    "val_ids = test_data[\"Id\"]  #remember for submission\n",
    "test_data = test_data.drop(columns=[\"Id\"])\n",
    "# delete nans\n",
    "for feature in train_data.columns:\n",
    "    percent = train_data[feature].isnull().sum() / train_data.shape[0]\n",
    "    if percent > 0.7:\n",
    "        train_data = train_data.drop(columns=feature)\n",
    "        test_data = test_data.drop(columns=feature)\n",
    "# need to convert data\n",
    "for feature in train_data.columns[:-1]:\n",
    "    if train_data[feature].dtype == 'object':\n",
    "        train_data[feature] = LabelEncoder().fit_transform(train_data[feature])\n",
    "        test_data[feature] = LabelEncoder().fit_transform(test_data[feature])\n",
    "# split\n",
    "X_train, X_test, y_train, y_test = train_test_split(train_data.drop(columns='SalePrice').values,\n",
    "                                                    np.log1p(train_data['SalePrice'].values), test_size=0.2,\n",
    "                                                    random_state=98987)\n",
    "X_train = SimpleImputer(strategy='most_frequent').fit_transform(X_train)\n",
    "X_test = SimpleImputer(strategy='most_frequent').fit_transform(X_test)\n",
    "\n",
    "scaler = StandardScaler()\n",
    "X_train = scaler.fit_transform(X_train, y_train)\n",
    "X_test = scaler.transform(X_test)"
   ],
   "metadata": {
    "collapsed": false
   }
  },
  {
   "cell_type": "code",
   "execution_count": 3,
   "outputs": [
    {
     "name": "stdout",
     "output_type": "stream",
     "text": [
      "Best parameters for RFR is: {'criterion': 'squared_error', 'max_depth': 100, 'max_features': 'sqrt', 'min_samples_split': 2, 'n_estimators': 75}\n"
     ]
    }
   ],
   "source": [
    "from sklearn.ensemble import RandomForestRegressor\n",
    "from sklearn.model_selection import GridSearchCV\n",
    "\n",
    "parameters = {\n",
    "    'criterion': ['squared_error', 'absolute_error', 'poisson'],\n",
    "    'n_estimators': [10, 50, 75, 100],\n",
    "    'max_features': [1.0, 'sqrt', 'log2'],\n",
    "    'min_samples_split': [2, 5, 9],\n",
    "    'max_depth': [10, 50, 100, 150], }\n",
    "rfr_model = GridSearchCV(RandomForestRegressor(), parameters)\n",
    "rfr_model.fit(X_train[:300], y_train[:300])\n",
    "print(\"Best parameters for RFR is: {}\".format(rfr_model.best_params_))"
   ],
   "metadata": {
    "collapsed": false
   }
  },
  {
   "cell_type": "code",
   "execution_count": 4,
   "outputs": [
    {
     "name": "stdout",
     "output_type": "stream",
     "text": [
      "Abs error on train data: 0.09\n",
      "Abs error on test data 0.11:\n"
     ]
    }
   ],
   "source": [
    "model = RandomForestRegressor(**rfr_model.best_params_)\n",
    "model.fit(X_train, y_train)\n",
    "print('Abs error on train data: %1.2f'%metrics.mean_absolute_error(rfr_model.predict(X_train), y_train))\n",
    "print('Abs error on test data %1.2f:'%metrics.mean_absolute_error(rfr_model.predict(X_test), y_test))"
   ],
   "metadata": {
    "collapsed": false
   }
  }
 ],
 "metadata": {
  "kernelspec": {
   "display_name": "Python 3",
   "language": "python",
   "name": "python3"
  },
  "language_info": {
   "codemirror_mode": {
    "name": "ipython",
    "version": 2
   },
   "file_extension": ".py",
   "mimetype": "text/x-python",
   "name": "python",
   "nbconvert_exporter": "python",
   "pygments_lexer": "ipython2",
   "version": "2.7.6"
  }
 },
 "nbformat": 4,
 "nbformat_minor": 0
}
